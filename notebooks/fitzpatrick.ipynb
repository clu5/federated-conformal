{
 "cells": [
  {
   "cell_type": "code",
   "execution_count": 5,
   "id": "07f8c455-b5c7-4fd8-bbe0-85ac2884a16f",
   "metadata": {},
   "outputs": [],
   "source": [
    "# !git clone https://github.com/mattgroh/fitzpatrick17k"
   ]
  },
  {
   "cell_type": "code",
   "execution_count": 3,
   "id": "0180b0d5-3bd2-43fb-b171-f836acec9598",
   "metadata": {},
   "outputs": [
    {
     "name": "stdout",
     "output_type": "stream",
     "text": [
      "pre (16527, 14)\n",
      "14327 1100 1100\n",
      "post (16527, 14)\n",
      "len(train_df)=14327\n",
      "len(val_df)=1100\n",
      "len(test_df)=1100\n",
      " 1.5    2481\n",
      " 1.0    2470\n",
      " 2.0    2251\n",
      " 3.0    1713\n",
      " 2.5    1273\n",
      " 3.5    1224\n",
      " 4.0    1088\n",
      " 4.5     607\n",
      " 5.0     598\n",
      "-1.0     289\n",
      " 6.0     167\n",
      " 5.5     166\n",
      "Name: aggregated_fitzpatrick_scale, dtype: int64\n",
      "train      14038\n",
      "val         1100\n",
      "test        1100\n",
      "exclude      289\n",
      "Name: split, dtype: int64\n"
     ]
    },
    {
     "name": "stderr",
     "output_type": "stream",
     "text": [
      "/var/folders/39/jd0hlp_j55d4kr11j2_nj2d00000gn/T/ipykernel_21941/3064837645.py:25: SettingWithCopyWarning: \n",
      "A value is trying to be set on a copy of a slice from a DataFrame.\n",
      "Try using .loc[row_indexer,col_indexer] = value instead\n",
      "\n",
      "See the caveats in the documentation: https://pandas.pydata.org/pandas-docs/stable/user_guide/indexing.html#returning-a-view-versus-a-copy\n",
      "  train_df['split'] = 'train'\n"
     ]
    }
   ],
   "source": [
    "import pandas as pd\n",
    "df = pd.read_csv('csv/fitzpatrick.csv')\n",
    "missing = open('csv/missing.txt', 'r').read().split('\\n')\n",
    "df['exclude'] = df.apply(lambda r: True if r.md5hash in missing else False, axis=1)\n",
    "df = df[~df.exclude]\n",
    "print('pre', df.shape)\n",
    "\n",
    "df['aggregated_fitzpatrick_scale'] = df.apply(lambda r: r.fitzpatrick_centaur if r.fitzpatrick_scale == -1 and r.fitzpatrick_centaur != -1 else r.fitzpatrick_scale, axis=1)\n",
    "df['aggregated_fitzpatrick_scale'] = df.apply(lambda r: (r.aggregated_fitzpatrick_scale + r.fitzpatrick_centaur) / 2 if r.aggregated_fitzpatrick_scale != -1 and r.fitzpatrick_centaur != -1 else r.aggregated_fitzpatrick_scale, axis=1)\n",
    "# df['aggregated_fitzpatrick_scale'] = df.aggregated_fitzpatrick_scale.round()\n",
    "\n",
    "labels = sorted(df.label.unique())\n",
    "mapping = dict(zip(labels, range(len(labels))))\n",
    "df['target'] = df.label.map(mapping)\n",
    "\n",
    "num_test_per_scale = 100\n",
    "num_val_per_scale = 100\n",
    "scales = sorted([x for x in df.aggregated_fitzpatrick_scale.unique() if x != -1])\n",
    "test_df = pd.concat([df[df['aggregated_fitzpatrick_scale'] == scale].sample(n=num_test_per_scale, random_state=0) for scale in scales])\n",
    "_df = df[~df.md5hash.isin(test_df.md5hash)]\n",
    "val_df = pd.concat([_df[_df['aggregated_fitzpatrick_scale'] == scale].sample(n=num_val_per_scale, random_state=0) for scale in scales])\n",
    "train_df = df[~df.md5hash.isin(pd.concat([val_df, test_df]).md5hash)]\n",
    "print(*map(len, (train_df, val_df, test_df)))\n",
    "\n",
    "train_df['split'] = 'train'\n",
    "val_df['split'] = 'val'\n",
    "test_df['split'] = 'test'\n",
    "df = pd.concat([train_df, val_df, test_df])\n",
    "df.loc[df.aggregated_fitzpatrick_scale == -1, 'split'] = 'exclude'\n",
    "print('post', df.shape)\n",
    "print(f'{len(train_df)=}')\n",
    "print(f'{len(val_df)=}')\n",
    "print(f'{len(test_df)=}')\n",
    "print(train_df.aggregated_fitzpatrick_scale.value_counts())\n",
    "print(df.split.value_counts())\n",
    "df.to_csv('csv/fitzpatrick_v5.csv')"
   ]
  },
  {
   "cell_type": "code",
   "execution_count": 4,
   "id": "cc7adcfa-fe23-47df-82c2-30c5bc744289",
   "metadata": {},
   "outputs": [
    {
     "data": {
      "text/plain": [
       "'/Users/clu/repos/federated-conformal'"
      ]
     },
     "execution_count": 4,
     "metadata": {},
     "output_type": "execute_result"
    }
   ],
   "source": [
    "pwd"
   ]
  },
  {
   "cell_type": "code",
   "execution_count": 6,
   "id": "4f44eac2-04ad-4563-bac0-1d986d66d713",
   "metadata": {},
   "outputs": [
    {
     "data": {
      "text/plain": [
       "12"
      ]
     },
     "execution_count": 6,
     "metadata": {},
     "output_type": "execute_result"
    }
   ],
   "source": [
    "len(df.aggregated_fitzpatrick_scale.unique())"
   ]
  },
  {
   "cell_type": "code",
   "execution_count": 2,
   "id": "47802835-475b-46e4-9049-e4bb405d52d4",
   "metadata": {},
   "outputs": [],
   "source": [
    "path_to_csv = 'fitzpatrick17k/fitzpatrick17k.csv'"
   ]
  },
  {
   "cell_type": "code",
   "execution_count": 3,
   "id": "d990f0a5-ef2b-43d6-8d2a-179cf2bce568",
   "metadata": {},
   "outputs": [],
   "source": [
    "import pandas as pd\n",
    "import numpy as np\n",
    "import matplotlib.pyplot as plt"
   ]
  },
  {
   "cell_type": "code",
   "execution_count": 4,
   "id": "aa2f8b9c-b260-4b8a-8942-d9a646aae071",
   "metadata": {},
   "outputs": [
    {
     "ename": "FileNotFoundError",
     "evalue": "[Errno 2] No such file or directory: 'fitzpatrick17k/fitzpatrick17k.csv'",
     "output_type": "error",
     "traceback": [
      "\u001b[0;31m---------------------------------------------------------------------------\u001b[0m",
      "\u001b[0;31mFileNotFoundError\u001b[0m                         Traceback (most recent call last)",
      "\u001b[0;32m/var/folders/39/jd0hlp_j55d4kr11j2_nj2d00000gn/T/ipykernel_12107/1140510203.py\u001b[0m in \u001b[0;36m<module>\u001b[0;34m\u001b[0m\n\u001b[0;32m----> 1\u001b[0;31m \u001b[0mdf\u001b[0m \u001b[0;34m=\u001b[0m \u001b[0mpd\u001b[0m\u001b[0;34m.\u001b[0m\u001b[0mread_csv\u001b[0m\u001b[0;34m(\u001b[0m\u001b[0mpath_to_csv\u001b[0m\u001b[0;34m)\u001b[0m\u001b[0;34m\u001b[0m\u001b[0;34m\u001b[0m\u001b[0m\n\u001b[0m",
      "\u001b[0;32m~/opt/anaconda3/lib/python3.9/site-packages/pandas/util/_decorators.py\u001b[0m in \u001b[0;36mwrapper\u001b[0;34m(*args, **kwargs)\u001b[0m\n\u001b[1;32m    309\u001b[0m                     \u001b[0mstacklevel\u001b[0m\u001b[0;34m=\u001b[0m\u001b[0mstacklevel\u001b[0m\u001b[0;34m,\u001b[0m\u001b[0;34m\u001b[0m\u001b[0;34m\u001b[0m\u001b[0m\n\u001b[1;32m    310\u001b[0m                 )\n\u001b[0;32m--> 311\u001b[0;31m             \u001b[0;32mreturn\u001b[0m \u001b[0mfunc\u001b[0m\u001b[0;34m(\u001b[0m\u001b[0;34m*\u001b[0m\u001b[0margs\u001b[0m\u001b[0;34m,\u001b[0m \u001b[0;34m**\u001b[0m\u001b[0mkwargs\u001b[0m\u001b[0;34m)\u001b[0m\u001b[0;34m\u001b[0m\u001b[0;34m\u001b[0m\u001b[0m\n\u001b[0m\u001b[1;32m    312\u001b[0m \u001b[0;34m\u001b[0m\u001b[0m\n\u001b[1;32m    313\u001b[0m         \u001b[0;32mreturn\u001b[0m \u001b[0mwrapper\u001b[0m\u001b[0;34m\u001b[0m\u001b[0;34m\u001b[0m\u001b[0m\n",
      "\u001b[0;32m~/opt/anaconda3/lib/python3.9/site-packages/pandas/io/parsers/readers.py\u001b[0m in \u001b[0;36mread_csv\u001b[0;34m(filepath_or_buffer, sep, delimiter, header, names, index_col, usecols, squeeze, prefix, mangle_dupe_cols, dtype, engine, converters, true_values, false_values, skipinitialspace, skiprows, skipfooter, nrows, na_values, keep_default_na, na_filter, verbose, skip_blank_lines, parse_dates, infer_datetime_format, keep_date_col, date_parser, dayfirst, cache_dates, iterator, chunksize, compression, thousands, decimal, lineterminator, quotechar, quoting, doublequote, escapechar, comment, encoding, encoding_errors, dialect, error_bad_lines, warn_bad_lines, on_bad_lines, delim_whitespace, low_memory, memory_map, float_precision, storage_options)\u001b[0m\n\u001b[1;32m    676\u001b[0m     \u001b[0mkwds\u001b[0m\u001b[0;34m.\u001b[0m\u001b[0mupdate\u001b[0m\u001b[0;34m(\u001b[0m\u001b[0mkwds_defaults\u001b[0m\u001b[0;34m)\u001b[0m\u001b[0;34m\u001b[0m\u001b[0;34m\u001b[0m\u001b[0m\n\u001b[1;32m    677\u001b[0m \u001b[0;34m\u001b[0m\u001b[0m\n\u001b[0;32m--> 678\u001b[0;31m     \u001b[0;32mreturn\u001b[0m \u001b[0m_read\u001b[0m\u001b[0;34m(\u001b[0m\u001b[0mfilepath_or_buffer\u001b[0m\u001b[0;34m,\u001b[0m \u001b[0mkwds\u001b[0m\u001b[0;34m)\u001b[0m\u001b[0;34m\u001b[0m\u001b[0;34m\u001b[0m\u001b[0m\n\u001b[0m\u001b[1;32m    679\u001b[0m \u001b[0;34m\u001b[0m\u001b[0m\n\u001b[1;32m    680\u001b[0m \u001b[0;34m\u001b[0m\u001b[0m\n",
      "\u001b[0;32m~/opt/anaconda3/lib/python3.9/site-packages/pandas/io/parsers/readers.py\u001b[0m in \u001b[0;36m_read\u001b[0;34m(filepath_or_buffer, kwds)\u001b[0m\n\u001b[1;32m    573\u001b[0m \u001b[0;34m\u001b[0m\u001b[0m\n\u001b[1;32m    574\u001b[0m     \u001b[0;31m# Create the parser.\u001b[0m\u001b[0;34m\u001b[0m\u001b[0;34m\u001b[0m\u001b[0m\n\u001b[0;32m--> 575\u001b[0;31m     \u001b[0mparser\u001b[0m \u001b[0;34m=\u001b[0m \u001b[0mTextFileReader\u001b[0m\u001b[0;34m(\u001b[0m\u001b[0mfilepath_or_buffer\u001b[0m\u001b[0;34m,\u001b[0m \u001b[0;34m**\u001b[0m\u001b[0mkwds\u001b[0m\u001b[0;34m)\u001b[0m\u001b[0;34m\u001b[0m\u001b[0;34m\u001b[0m\u001b[0m\n\u001b[0m\u001b[1;32m    576\u001b[0m \u001b[0;34m\u001b[0m\u001b[0m\n\u001b[1;32m    577\u001b[0m     \u001b[0;32mif\u001b[0m \u001b[0mchunksize\u001b[0m \u001b[0;32mor\u001b[0m \u001b[0miterator\u001b[0m\u001b[0;34m:\u001b[0m\u001b[0;34m\u001b[0m\u001b[0;34m\u001b[0m\u001b[0m\n",
      "\u001b[0;32m~/opt/anaconda3/lib/python3.9/site-packages/pandas/io/parsers/readers.py\u001b[0m in \u001b[0;36m__init__\u001b[0;34m(self, f, engine, **kwds)\u001b[0m\n\u001b[1;32m    930\u001b[0m \u001b[0;34m\u001b[0m\u001b[0m\n\u001b[1;32m    931\u001b[0m         \u001b[0mself\u001b[0m\u001b[0;34m.\u001b[0m\u001b[0mhandles\u001b[0m\u001b[0;34m:\u001b[0m \u001b[0mIOHandles\u001b[0m \u001b[0;34m|\u001b[0m \u001b[0;32mNone\u001b[0m \u001b[0;34m=\u001b[0m \u001b[0;32mNone\u001b[0m\u001b[0;34m\u001b[0m\u001b[0;34m\u001b[0m\u001b[0m\n\u001b[0;32m--> 932\u001b[0;31m         \u001b[0mself\u001b[0m\u001b[0;34m.\u001b[0m\u001b[0m_engine\u001b[0m \u001b[0;34m=\u001b[0m \u001b[0mself\u001b[0m\u001b[0;34m.\u001b[0m\u001b[0m_make_engine\u001b[0m\u001b[0;34m(\u001b[0m\u001b[0mf\u001b[0m\u001b[0;34m,\u001b[0m \u001b[0mself\u001b[0m\u001b[0;34m.\u001b[0m\u001b[0mengine\u001b[0m\u001b[0;34m)\u001b[0m\u001b[0;34m\u001b[0m\u001b[0;34m\u001b[0m\u001b[0m\n\u001b[0m\u001b[1;32m    933\u001b[0m \u001b[0;34m\u001b[0m\u001b[0m\n\u001b[1;32m    934\u001b[0m     \u001b[0;32mdef\u001b[0m \u001b[0mclose\u001b[0m\u001b[0;34m(\u001b[0m\u001b[0mself\u001b[0m\u001b[0;34m)\u001b[0m\u001b[0;34m:\u001b[0m\u001b[0;34m\u001b[0m\u001b[0;34m\u001b[0m\u001b[0m\n",
      "\u001b[0;32m~/opt/anaconda3/lib/python3.9/site-packages/pandas/io/parsers/readers.py\u001b[0m in \u001b[0;36m_make_engine\u001b[0;34m(self, f, engine)\u001b[0m\n\u001b[1;32m   1214\u001b[0m             \u001b[0;31m# \"Union[str, PathLike[str], ReadCsvBuffer[bytes], ReadCsvBuffer[str]]\"\u001b[0m\u001b[0;34m\u001b[0m\u001b[0;34m\u001b[0m\u001b[0m\n\u001b[1;32m   1215\u001b[0m             \u001b[0;31m# , \"str\", \"bool\", \"Any\", \"Any\", \"Any\", \"Any\", \"Any\"\u001b[0m\u001b[0;34m\u001b[0m\u001b[0;34m\u001b[0m\u001b[0m\n\u001b[0;32m-> 1216\u001b[0;31m             self.handles = get_handle(  # type: ignore[call-overload]\n\u001b[0m\u001b[1;32m   1217\u001b[0m                 \u001b[0mf\u001b[0m\u001b[0;34m,\u001b[0m\u001b[0;34m\u001b[0m\u001b[0;34m\u001b[0m\u001b[0m\n\u001b[1;32m   1218\u001b[0m                 \u001b[0mmode\u001b[0m\u001b[0;34m,\u001b[0m\u001b[0;34m\u001b[0m\u001b[0;34m\u001b[0m\u001b[0m\n",
      "\u001b[0;32m~/opt/anaconda3/lib/python3.9/site-packages/pandas/io/common.py\u001b[0m in \u001b[0;36mget_handle\u001b[0;34m(path_or_buf, mode, encoding, compression, memory_map, is_text, errors, storage_options)\u001b[0m\n\u001b[1;32m    784\u001b[0m         \u001b[0;32mif\u001b[0m \u001b[0mioargs\u001b[0m\u001b[0;34m.\u001b[0m\u001b[0mencoding\u001b[0m \u001b[0;32mand\u001b[0m \u001b[0;34m\"b\"\u001b[0m \u001b[0;32mnot\u001b[0m \u001b[0;32min\u001b[0m \u001b[0mioargs\u001b[0m\u001b[0;34m.\u001b[0m\u001b[0mmode\u001b[0m\u001b[0;34m:\u001b[0m\u001b[0;34m\u001b[0m\u001b[0;34m\u001b[0m\u001b[0m\n\u001b[1;32m    785\u001b[0m             \u001b[0;31m# Encoding\u001b[0m\u001b[0;34m\u001b[0m\u001b[0;34m\u001b[0m\u001b[0m\n\u001b[0;32m--> 786\u001b[0;31m             handle = open(\n\u001b[0m\u001b[1;32m    787\u001b[0m                 \u001b[0mhandle\u001b[0m\u001b[0;34m,\u001b[0m\u001b[0;34m\u001b[0m\u001b[0;34m\u001b[0m\u001b[0m\n\u001b[1;32m    788\u001b[0m                 \u001b[0mioargs\u001b[0m\u001b[0;34m.\u001b[0m\u001b[0mmode\u001b[0m\u001b[0;34m,\u001b[0m\u001b[0;34m\u001b[0m\u001b[0;34m\u001b[0m\u001b[0m\n",
      "\u001b[0;31mFileNotFoundError\u001b[0m: [Errno 2] No such file or directory: 'fitzpatrick17k/fitzpatrick17k.csv'"
     ]
    }
   ],
   "source": [
    "df = pd.read_csv(path_to_csv)"
   ]
  },
  {
   "cell_type": "code",
   "execution_count": null,
   "id": "45b0c438-9a61-40ca-9765-9c33969445af",
   "metadata": {},
   "outputs": [],
   "source": [
    "df"
   ]
  },
  {
   "cell_type": "code",
   "execution_count": 18,
   "id": "39de4e26-ae01-4766-ae12-fc84b9a4dfdb",
   "metadata": {},
   "outputs": [],
   "source": [
    "from pathlib import Path\n",
    "import requests"
   ]
  },
  {
   "cell_type": "code",
   "execution_count": 55,
   "id": "b294e2fe-a576-4742-95a1-d9ca5b1065e9",
   "metadata": {},
   "outputs": [],
   "source": [
    "fitz_dir = Path('../data/fitzpatrick17k/')\n",
    "image_dir = fitz_dir / 'images'\n",
    "image_dir.mkdir(exist_ok=True)\n",
    "missing_file = (fitz_dir / 'missing.txt')\n",
    "missing_file.touch()"
   ]
  },
  {
   "cell_type": "code",
   "execution_count": 103,
   "id": "59d3cf4a-5d1c-43f9-a005-1fc9b1285c8c",
   "metadata": {},
   "outputs": [
    {
     "name": "stdout",
     "output_type": "stream",
     "text": [
      "bad url fc63008d9d80b373d2d8f84dfd034446 nan\n",
      "bad url 480fd80167d7865ce9aafe14aba4ec9d nan\n",
      "bad url acbc68bd9e35591b8344ab8b5e51f458 nan\n",
      "bad url 93997108c3ae3beacc108f8829dc2302 nan\n",
      "bad url 9d994f1278a9788612fa2af179328c31 nan\n",
      "bad url 6712381a925124e968bcac89481c90e0 nan\n",
      "bad url bb23fa10c71a57d17a8c7eb4773db237 nan\n",
      "bad url d653edb6aa702f095a9b00550738a821 nan\n",
      "bad url 8cfe54501fe00ddc74096b7cd67aa1e1 nan\n",
      "bad url 85e11dd1c6f60d02f16516fdfac9c7f7 nan\n",
      "bad url 5b2233d744c8b8d46c8577b69ba82a8f nan\n",
      "bad url 3b713377bb9025c1ab6a184d788c940b nan\n",
      "bad url 28126ac3ed45c0f1f282baa0c04232cd nan\n",
      "bad url f0e1f501ec5f67e5ce9486a59304b4ab nan\n",
      "bad url 267e230db9a29ddc9fb4c3b7a394a055 nan\n",
      "bad url 2ed97fd85d7c7f94523d60fa1e3c3dfc nan\n",
      "bad url 47e741a7840c2aa33f7c460fdad2fce2 nan\n",
      "bad url 2851ef5f2ee2e0035cf316eeaeac217b nan\n",
      "bad url aab39ed80019fefdabd07e7fa1125bc9 nan\n",
      "bad url bb4fecc4701823a02f9c06f58e0da001 nan\n",
      "bad url 0f119ca91147595c6299c830803cfb47 nan\n",
      "bad url 04379559d6f119c6028c6790c2b3af1c nan\n",
      "bad url ffe7011351ab1c65eaeee1c3328bd239 nan\n",
      "bad url 0411ab5e3174cccbddc663b9dc97931c nan\n",
      "bad url 44bc5141b506eadc4e7233200d057125 nan\n",
      "bad url 99226382ee26871f6f9f903eb928b6f3 nan\n",
      "bad url 48d8241a072b983a03bb30701adecb68 nan\n",
      "bad url ac2e6a82fdda125099d8171730fb25b8 nan\n",
      "bad url 87ae4c6a6e5d03d360fdd19b3a2d8092 nan\n",
      "bad url 05ca8826b74e690961ffc4951777689f nan\n",
      "bad url f09ed213db3ecc825b7d66ea987828e9 nan\n",
      "bad url a906e7bbb9307b70cb7223c67f39a41f nan\n",
      "bad url 9bc01747de8df68dd22eab215fc2d6ce nan\n",
      "bad url f2ddb6fd2d4348f5f562764849aebe12 nan\n",
      "bad url 4f3c20ff6ca4acbecc3d1639031c5cd2 nan\n",
      "bad url 202cbc4cbaf0dcc67fde7feb87362984 nan\n",
      "bad url b6cf008da895fb856a76c033fddf6ec5 nan\n",
      "bad url e502329e84cce457840d11ba086584c4 nan\n",
      "bad url 1f44599103695a126e5bb6496ba52cb7 nan\n",
      "bad url 76190e02d6dbf53a4f6e2b2666fdbc63 nan\n",
      "bad url d850993b213f1d50ad771dce91c5dcad nan\n",
      "ecacdf96f4a54f76834361a445194e0e\t<Response [404]>\n",
      "f71b43e686defe90d813f07c952dfe75\t<Response [404]>\n",
      "10e0293479132f664253bb7820dbb67a\t<Response [404]>\n",
      "45bde12ffb11ed63f138eb71f1686c49\t<Response [404]>\n",
      "65622d9d5904ab4b615cd3b754dddda2\t<Response [404]>\n",
      "dc00687b3d681399aafef060c45826c2\t<Response [404]>\n",
      "47b0958247b48d35ce3a91e907f6f299\t<Response [404]>\n",
      "8b53820171cc4ef6e17c56ec23c44e57\t<Response [404]>\n",
      "05175d29ac2b49702ba01bc4952cdb1c\t<Response [404]>\n"
     ]
    }
   ],
   "source": [
    "for i, row in df.iterrows():\n",
    "    filename = row[0]\n",
    "    image_url = row[7]\n",
    "    if not isinstance(image_url, str):\n",
    "        print('bad url', filename, image_url)\n",
    "        with open(missing_file, 'a') as f:\n",
    "            f.write(filename + '\\n')\n",
    "        continue\n",
    "    ext = Path(image_url).suffix\n",
    "    if (image_dir / f'{filename}{ext}').exists():\n",
    "        continue\n",
    "    response = requests.get(image_url, headers={'User-agent': 'Mozilla/5.0 (Macintosh; Intel Mac OS X 10_15_7) AppleWebKit/537.36 (KHTML, like Gecko) Chrome/108.0.0.0 Safari/537.36'})\n",
    "    if not response.ok:\n",
    "        print(filename, end='\\t')\n",
    "        print(response)\n",
    "    else:\n",
    "        with open(image_dir / f'{filename}{ext}','wb') as f:\n",
    "            f.write(response.content)"
   ]
  },
  {
   "cell_type": "code",
   "execution_count": 104,
   "id": "6fb254ab-e15a-445e-92ac-6ed8ecb67e19",
   "metadata": {},
   "outputs": [
    {
     "name": "stdout",
     "output_type": "stream",
     "text": [
      "16527\n"
     ]
    }
   ],
   "source": [
    "!ls ../data/fitzpatrick17k/images/ | wc -l"
   ]
  },
  {
   "cell_type": "code",
   "execution_count": 105,
   "id": "78f4929a-e1fb-4606-b246-fefdad224ec0",
   "metadata": {},
   "outputs": [
    {
     "name": "stdout",
     "output_type": "stream",
     "text": [
      "68ab661c67a4b66b621eb0845f0fcccf.jpg\t(130, 93)\t4598402\n",
      "7314c0c02f1d521c6b2b4ba955d369e8.jpg\t(130, 99)\t4881585\n",
      "23fc2126bc1f8799fccfb195d2af6141.jpg\t(133, 100)\t5195807\n",
      "23c779026faa7226e892c9048f43bf36.jpg\t(117, 130)\t3511061\n",
      "c705f348b1035b9ad3d3fc2ee92ee768.jpg\t(99, 130)\t6332482\n",
      "f968e591e15f47b544e551bc3cc5b8d3.jpg\t(130, 120)\t4506408\n",
      "a7ef35e99387ff1227baced72467dc1f.jpg\t(130, 85)\t5478529\n",
      "9d85c442ec9293c04423c8938cb36cad.jpg\t(102, 130)\t5413405\n",
      "48700506ed2b3d5b0e5b4cbc6a12ad94.jpg\t(130, 121)\t3955616\n",
      "dfae71d76e84de3d240a296bd40ff341.jpg\t(130, 86)\t5459411\n",
      "8c4ed20439baa7bf0053b3abd8c481ee.jpg\t(130, 89)\t2971562\n",
      "7da091d784090919f87bb8d5a1170830.jpg\t(130, 120)\t4926600\n",
      "1dd06f10a962779a01ccae641e1c7e42.jpg\t(130, 74)\t2718669\n",
      "742c83b0b5b1a14e8cddbef28108ae17.jpg\t(130, 89)\t5026602\n",
      "4157d3f95f44ccc755f79cda16722730.jpg\t(130, 74)\t5377141\n",
      "6bb966643b6a6f29047114b667aca8ec.jpg\t(130, 117)\t6781216\n",
      "d04150a06562fb2c21073a745b42f7dc.jpg\t(127, 192)\t10912662\n",
      "6bdffc50c482e5f7ecf1b1b325f6a172.jpg\t(130, 108)\t5524151\n",
      "afc7ec1f4a5732d39da6c2c00ac0bd44.jpg\t(87, 130)\t4962688\n",
      "656ee5b708a8250872b363adf2c1476a.jpg\t(130, 98)\t3545371\n",
      "bc6b509caeef6ceb1972e2a62f675cc7.jpg\t(130, 98)\t4404186\n",
      "34becf085bc7a8e0a42fe577e90d10d9.jpg\t(130, 91)\t4751822\n",
      "911bd88b5ba3cd4c2852795adc819e37.jpg\t(130, 90)\t3470398\n",
      "a3fc00f05b45ed4a149a79a342fb7b98.jpg\t(130, 98)\t3864284\n",
      "16e80f17ef11a756637bf2cf8ef28737.jpg\t(130, 88)\t3646219\n",
      "afe7b75c9e38100b4c06443cc8942b38.jpg\t(94, 130)\t4204827\n",
      "916ebfd02cafdd41504ba21f6abaa8ac.jpg\t(130, 94)\t3727354\n",
      "1f9e473d8f56a1204c6d6bd57e3d9bf1.jpg\t(130, 94)\t5220928\n",
      "24e68a7210b0f24b8bfb1f332d187777.jpg\t(114, 130)\t6367501\n",
      "c40f5b17c9e0f80ac24933b30fe8713c.jpg\t(130, 110)\t6090186\n",
      "a027f129d0ed0d55f8c0c455d9de0035.jpg\t(130, 109)\t7409393\n",
      "1a74229f50413b8ec98bb3d0c5f2189e.jpg\t(127, 192)\t8220476\n",
      "a89ea91135b91819c2d172d39c239948.jpg\t(97, 130)\t4737912\n",
      "0335374becde1099bcf8541a5e6a07e8.jpg\t(130, 78)\t4038320\n",
      "ea4fc8065f75426210090461c7815045.jpg\t(130, 89)\t3831605\n",
      "f246e2b42688785fd6962b8609963d65.jpg\t(130, 117)\t6950873\n",
      "e4ef12893508cf9be52516f0e911e584.jpg\t(130, 87)\t5600712\n",
      "6c47826e0ab359b06e6b438a294c4c3a.jpg\t(126, 192)\t5578474\n",
      "665a3cb531b732d6f441dde316933b4f.jpg\t(130, 114)\t6137553\n",
      "d867eadb1c4a856b8f74352ec7057c31.jpg\t(123, 192)\t5999800\n",
      "e51415a37dd6e3b5c682951c59a19ef1.jpg\t(130, 116)\t8080541\n",
      "d5837c87b8168a330fa75f463e3529f4.jpg\t(130, 82)\t4155702\n",
      "3ac3d3c0d8f47f96cdb81e6182d41857.jpg\t(130, 88)\t5213892\n",
      "18ada6cd1bf0888784eaadadd531b26c.jpg\t(130, 115)\t6285076\n",
      "342507a8006678962f9fb6206c3f0015.jpg\t(130, 95)\t6816069\n",
      "ec3482d734302b4ad12d362602cdbb1a.jpg\t(130, 89)\t5336732\n",
      "90540b39fe013db1e50ce9147c82e696.jpg\t(130, 87)\t5036457\n",
      "3f7aaf6d85e7d27d7d4c403f47895695.jpg\t(130, 81)\t4758371\n",
      "3ec49196eef77a76e16a47bcc506efda.jpg\t(126, 192)\t6566794\n",
      "1aedd8424424cf1cd4fe9ed18bfd3f28.jpg\t(111, 130)\t6211027\n",
      "2a15701b156ba62885e84dcc3f8ea910.jpg\t(130, 89)\t3614707\n",
      "45a7b77523fed65af3668cc072364407.jpg\t(130, 85)\t3647136\n",
      "90bf10d2d4b7891e15c4959e2a73b426.jpg\t(130, 93)\t4588492\n",
      "b9afa929d75b82cbd320d2fb73d7b059.jpg\t(130, 85)\t3257671\n",
      "d9983861bd1eeebe931ee7b5fb3a112a.jpg\t(130, 98)\t2344009\n",
      "448f9bc65b9741953316edf647b2475c.jpg\t(119, 130)\t6457933\n",
      "32c0a9b5310b02abbe487e6a781fe89e.jpg\t(130, 91)\t3083697\n",
      "90758162cfe46847c2c044f97bfe2c7e.jpg\t(89, 130)\t5284084\n",
      "d48e8d81bc08026049768aa5c91ac752.jpg\t(115, 130)\t4079620\n",
      "4c13340c2a4e28252816d39fa018bbc8.jpg\t(130, 85)\t3604537\n",
      "f1880c22ffacc0891a1c9ae3a89f164e.jpg\t(130, 98)\t4490390\n",
      "d1d7decacddf2cae04a23a7046d49cb3.jpg\t(130, 66)\t3931674\n",
      "d20132382bce45b25a1551f55fb0a502.jpg\t(130, 84)\t3746475\n",
      "b1fed8d980864611cd0a7cc0b77035ab.jpg\t(130, 69)\t4088100\n",
      "fef641003bb08a40d2839f57d39c721f.jpg\t(130, 68)\t3441632\n",
      "29a04eeab0b4c97bcd20b90b114d5f21.jpg\t(130, 87)\t5408177\n",
      "f86cb4a75683abae76cefa622123f5f1.jpg\t(130, 98)\t3886906\n",
      "6c6d072123d56ce0ff132f48b5a17309.jpg\t(130, 90)\t3603570\n",
      "18c245164df495164203b83f8df9ee78.jpg\t(130, 103)\t6001249\n",
      "c0673656a8d3ce41f1386e326c198cf6.jpg\t(126, 192)\t8557742\n",
      "ca86e26ccedeb67ab344763f929d6bbb.jpg\t(130, 88)\t873571\n",
      "00e2d3aa3bdad5ec550d3288543a9c2e.jpg\t(130, 86)\t3699282\n",
      "52527e8d12636fd64523b3dcbeb94d57.jpg\t(130, 88)\t5678377\n",
      "a40fb61acc29b50d34decdd09e89e634.jpg\t(130, 96)\t5604465\n",
      "47531d3d92305e77857724ec4b0c88eb.jpg\t(130, 93)\t5841532\n",
      "ab23656112025c96ee4acf9e3e0b993a.jpg\t(130, 85)\t3380307\n",
      "298fc8e9382bcdd2668c98e710a3808e.jpg\t(89, 130)\t4446740\n",
      "fe63b3d0c69f9c6a552d97328d89de0a.jpg\t(105, 130)\t4843560\n",
      "75529631b2d47e052ce14e86bf1270d2.jpg\t(130, 98)\t5007060\n",
      "e927e3c5b712669a7a3d104bec0cf744.jpg\t(130, 123)\t6768718\n",
      "6ce8282ea9c8104e0da17facd31aa473.jpg\t(130, 113)\t5908769\n",
      "562b67a1f3c45d79d1ac3bebbbbbbd5b.jpg\t(130, 99)\t4219207\n",
      "3e00be95682c981f5125826cddd3d088.jpg\t(125, 130)\t4899541\n",
      "3c2dd586fccdd274cfc512c8ec868123.jpg\t(130, 105)\t6157650\n",
      "a9df130f561e5f8a649e6fd2ecf227f5.jpg\t(130, 80)\t3983475\n",
      "2df39821d2328b6adee3dcacc2eb83f5.jpg\t(130, 102)\t4079222\n",
      "1ac5d3755f3e4e77ee6d100dfc333d6d.jpg\t(130, 103)\t4275510\n",
      "829bdc888fae599bcc725335d988840e.jpg\t(130, 89)\t3925234\n",
      "c750ae181c65977cec04dae156881b42.jpg\t(130, 113)\t6240009\n",
      "6d5a8f4d17c5cc9a3ac613ba2832cbd9.jpg\t(130, 85)\t3707584\n",
      "f6281cf2c829257b84e0d24f873b1451.jpg\t(101, 130)\t3499749\n",
      "e46b53d55aabf62f40feab5ee9923e0c.jpg\t(130, 85)\t3841310\n",
      "35b69adeddb53261c7e773e3a35b74f4.jpg\t(130, 88)\t3137914\n",
      "99bc9a0acede1db1fa1a584cb8a4964a.jpg\t(130, 85)\t4588915\n",
      "2fb803247ab7e23e4cc616079c04afde.jpg\t(130, 83)\t4945873\n",
      "ee12dbf9122bf31318607ef0d3759991.jpg\t(130, 84)\t2359482\n",
      "7b1fda566d600244538515b8d2097ff8.jpg\t(98, 130)\t5065997\n",
      "5e1b32a02ad224dafbba98d0adc1f811.jpg\t(130, 72)\t2633620\n",
      "596f4e8d75aca205fdd9f1b91dc1bbc8.jpg\t(130, 88)\t4740575\n",
      "0c1d81533a06aa3086cf33b85ed77e16.jpg\t(130, 87)\t2272478\n",
      "1a7cb4d99b13256fed6a7dbc06dbcea2.jpg\t(91, 130)\t4402373\n",
      "719c7887e69d70b74941405e4876d459.jpg\t(130, 103)\t4438380\n",
      "f1a0afa59c9e2602366067da6fbb9bae.jpg\t(130, 86)\t5163049\n"
     ]
    }
   ],
   "source": [
    "small = []\n",
    "issue = []\n",
    "from PIL import Image\n",
    "i = 0\n",
    "for image_path in image_dir.glob('[!.]*'):\n",
    "    try:\n",
    "        img = Image.open(image_path)\n",
    "        w, h = img.size\n",
    "        pixels = np.array(img).sum()\n",
    "        if w < 128 or h < 128 or pixels < 100_000:\n",
    "            print(image_path.name, end='\\t')\n",
    "            print(img.size, end='\\t')\n",
    "            print(pixels)\n",
    "            small.append(image_path)\n",
    "    except Exception as e:\n",
    "        print(image_path, e)\n",
    "        issue.append(image_path)"
   ]
  },
  {
   "cell_type": "code",
   "execution_count": 106,
   "id": "7e40410d-3706-4bb4-b0d8-63d9974cbbcb",
   "metadata": {},
   "outputs": [
    {
     "data": {
      "text/plain": [
       "[]"
      ]
     },
     "execution_count": 106,
     "metadata": {},
     "output_type": "execute_result"
    }
   ],
   "source": [
    "issue"
   ]
  },
  {
   "cell_type": "code",
   "execution_count": 94,
   "id": "5c93943e-91d9-458b-9fca-1c916703ef93",
   "metadata": {},
   "outputs": [],
   "source": [
    "for p in issue:\n",
    "    p.unlink()"
   ]
  },
  {
   "cell_type": "code",
   "execution_count": null,
   "id": "45c4b59b-4944-4850-a077-0e7a7d4ce525",
   "metadata": {},
   "outputs": [],
   "source": []
  }
 ],
 "metadata": {
  "kernelspec": {
   "display_name": "Python 3 (ipykernel)",
   "language": "python",
   "name": "python3"
  },
  "language_info": {
   "codemirror_mode": {
    "name": "ipython",
    "version": 3
   },
   "file_extension": ".py",
   "mimetype": "text/x-python",
   "name": "python",
   "nbconvert_exporter": "python",
   "pygments_lexer": "ipython3",
   "version": "3.9.13"
  }
 },
 "nbformat": 4,
 "nbformat_minor": 5
}
